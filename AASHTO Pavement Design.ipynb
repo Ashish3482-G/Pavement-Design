{
 "cells": [
  {
   "cell_type": "markdown",
   "id": "20bdf972-bbfe-4943-9240-9217798e6628",
   "metadata": {},
   "source": [
    "# Flexible Pavement Design Tool Using AASHTO Methodology\n",
    "\n",
    "This notebook implements a tool for designing flexible pavement structures based on the 1993 AASHTO pavement design guide. The tool calculates critical parameters such as Equivalent Single Axle Load (ESAL), Resilient Modulus (MR), Structural Number (SN), and determines the required thicknesses for various pavement layers.\n",
    "\n",
    "## Overview\n",
    "The design process follows these steps:\n",
    "1. **Calculate ESAL:** Determine the total ESAL based on traffic data.\n",
    "2. **Calculate Resilient Modulus (MR):** Compute the MR from the California Bearing Ratio (CBR).\n",
    "3. **Determine Standard Deviation (So):** Use a default value to account for variability.\n",
    "4. **Select Level of Reliability (R):** Based on roadway classification.\n",
    "5. **Calculate Serviceability Index (ΔPSI):** Determine serviceability loss based on roadway classification.\n",
    "6. **Calculate Structural Number (SN):** Using a trial-and-error method.\n",
    "7. **Determine Layer Thicknesses:** Calculate thicknesses for each pavement layer to meet the required SN.\n"
   ]
  },
  {
   "cell_type": "code",
   "execution_count": 3,
   "id": "704ea51b-ac9a-4a25-974f-bbc9f0cc681a",
   "metadata": {},
   "outputs": [],
   "source": [
    "import math"
   ]
  },
  {
   "cell_type": "markdown",
   "id": "260f7327-e1e3-436f-b18c-7886ffc44a0a",
   "metadata": {},
   "source": [
    "## Step 1: Calculate ESAL\n",
    "The first step is to calculate the total Equivalent Single Axle Load (ESAL) based on the vehicle counts and their corresponding equivalency factors."
   ]
  },
  {
   "cell_type": "code",
   "execution_count": 4,
   "id": "4657feae-eff2-4f14-870d-8f047ec5b4e6",
   "metadata": {},
   "outputs": [],
   "source": [
    "def calculate_esal(vehicle_counts, equivalency_factors):\n",
    "    \"\"\"\n",
    "    Calculate the total ESAL (Equivalent Single Axle Load) based on vehicle counts and their equivalency factors.\n",
    "    \n",
    "    :param vehicle_counts: A dictionary where keys are vehicle types (e.g., 'Heavy Truck') and values are the counts.\n",
    "    :param equivalency_factors: A dictionary where keys are vehicle types and values are their equivalency factors.\n",
    "    :return: Total ESAL value.\n",
    "    \"\"\"\n",
    "    total_esal = 0\n",
    "    for vehicle_type, count in vehicle_counts.items():\n",
    "        if vehicle_type in equivalency_factors:\n",
    "            esal = count * equivalency_factors[vehicle_type]\n",
    "            total_esal += esal\n",
    "            print(f\"{vehicle_type}: {count} vehicles * {equivalency_factors[vehicle_type]} factor = {esal} ESALs\")\n",
    "    \n",
    "    return total_esal"
   ]
  },
  {
   "cell_type": "markdown",
   "id": "b6aca83a-d838-461d-b702-4b3e557ca281",
   "metadata": {},
   "source": [
    "## Step 2: Calculate Resilient Modulus (MR)\n",
    "The resilient modulus (MR) is calculated using the California Bearing Ratio (CBR)."
   ]
  },
  {
   "cell_type": "code",
   "execution_count": 5,
   "id": "b2aebd8c-9593-4fc1-a0dd-e8a948431e6f",
   "metadata": {},
   "outputs": [],
   "source": [
    "def calculate_resilient_modulus(cbr):\n",
    "    \"\"\"\n",
    "    Calculate the Resilient Modulus (MR) of the subgrade soil based on the California Bearing Ratio (CBR).\n",
    "    \n",
    "    :param cbr: California Bearing Ratio (CBR) value\n",
    "    :return: Resilient Modulus (MR) in psi\n",
    "    \"\"\"\n",
    "    mr = 1500 * cbr\n",
    "    return mr"
   ]
  },
  {
   "cell_type": "markdown",
   "id": "ac339ac6-5072-4efb-9184-6a23a9505a96",
   "metadata": {},
   "source": [
    "## Step 3: Get Standard Deviation (So)\n",
    "The overall standard deviation (So) is used to account for the variability in the pavement materials and traffic projections."
   ]
  },
  {
   "cell_type": "code",
   "execution_count": 6,
   "id": "480c09d4-08c1-41ee-929b-142ba1f40047",
   "metadata": {},
   "outputs": [],
   "source": [
    "def get_standard_deviation():\n",
    "    \"\"\"\n",
    "    Retrieve the standard deviation (So) used in flexible pavement design. \n",
    "    This accounts for the variability in traffic projections and pavement material properties.\n",
    "    \n",
    "    :return: Standard deviation (So)\n",
    "    \"\"\"\n",
    "    return 0.45"
   ]
  },
  {
   "cell_type": "markdown",
   "id": "4e51526f-4aa7-4da4-a3d7-e868ed9e0413",
   "metadata": {},
   "source": [
    "## Step 4: Get Level of Reliability (R)\n",
    "Select the roadway classification to determine the level of reliability (R) and the corresponding standard normal deviate (ZR)."
   ]
  },
  {
   "cell_type": "code",
   "execution_count": 7,
   "id": "a7489bf3-2216-4341-ba80-a4aeae8590e9",
   "metadata": {},
   "outputs": [],
   "source": [
    "def get_reliability_parameters(roadway_classification):\n",
    "    \"\"\"\n",
    "    Obtain the level of reliability (R) and the corresponding standard normal deviate (ZR)\n",
    "    based on the roadway classification.\n",
    "    \n",
    "    :param roadway_classification: The type of roadway (e.g., 'Truck Route').\n",
    "    :return: A tuple containing the level of reliability (R) and ZR.\n",
    "    \"\"\"\n",
    "    reliability_table = {\n",
    "        'Truck Route': (99.9, -3.090),\n",
    "        'Rural/Urban': (99.9, -3.090),\n",
    "        'Expressway': (99.9, -3.090),\n",
    "        'Main Road': (99.0, -2.327),\n",
    "        'Sector Road': (95.0, -1.645)\n",
    "    }\n",
    "    \n",
    "    return reliability_table.get(roadway_classification, (None, None))"
   ]
  },
  {
   "cell_type": "markdown",
   "id": "91e44b20-4e24-4751-9b08-0124189389fe",
   "metadata": {},
   "source": [
    "## Step 5: Get Serviceability Parameters (ΔPSI)\n",
    "The serviceability index provides a measure of the pavement's ability to serve the traffic during its lifespan. This step calculates the initial and terminal serviceability and the allowable serviceability loss."
   ]
  },
  {
   "cell_type": "code",
   "execution_count": 8,
   "id": "576b59cf-6924-4dc3-b132-bcbf77c3e7e4",
   "metadata": {},
   "outputs": [],
   "source": [
    "def get_serviceability_parameters(roadway_classification):\n",
    "    \"\"\"\n",
    "    Retrieve the initial serviceability (po), terminal serviceability (pt), and design serviceability loss (ΔPSI)\n",
    "    based on the roadway classification.\n",
    "    \n",
    "    :param roadway_classification: The type of roadway (e.g., 'Truck Route').\n",
    "    :return: A tuple containing po, pt, and ΔPSI.\n",
    "    \"\"\"\n",
    "    serviceability_table = {\n",
    "        'Truck Route': (4.2, 3.0, 1.2),\n",
    "        'Freeway': (4.2, 3.0, 1.2),\n",
    "        'Expressway': (4.2, 3.0, 1.2),\n",
    "        'Main Road': (4.1, 2.6, 1.5),\n",
    "        'Sector Road': (4.0, 2.4, 1.6)\n",
    "    }\n",
    "    \n",
    "    return serviceability_table.get(roadway_classification, (None, None, None))"
   ]
  },
  {
   "cell_type": "markdown",
   "id": "1360d892-3820-4203-a823-0fa360afecde",
   "metadata": {},
   "source": [
    "## Step 6: Calculate Structural Number (SN)\n",
    "Using a trial-and-error approach, the Structural Number (SN) is calculated to ensure the pavement structure can handle the anticipated traffic loads."
   ]
  },
  {
   "cell_type": "code",
   "execution_count": 9,
   "id": "ec323b97-4dd6-4381-a03e-e32820a7c632",
   "metadata": {},
   "outputs": [],
   "source": [
    "def calculate_log_w18(sn, mr, so, zr, delta_psi):\n",
    "    \"\"\"\n",
    "    Calculate the logarithm (base 10) of the 18-kip Equivalent Single Axle Load (W18) \n",
    "    using the AASHTO pavement design equation.\n",
    "    \n",
    "    :param sn: Structural Number (SN) determined in Step 6.\n",
    "    :param mr: Resilient Modulus (MR) in psi.\n",
    "    :param so: Standard Deviation (So) from Step 3.\n",
    "    :param zr: Standard Normal Deviate (ZR) from Step 4.\n",
    "    :param delta_psi: Design Serviceability Loss (ΔPSI) from Step 5.\n",
    "    :return: Logarithm (base 10) of the W18.\n",
    "    \"\"\"\n",
    "    term1 = zr * so\n",
    "    term2 = 9.36 * math.log10(sn + 1) - 0.20\n",
    "    term3 = math.log10(delta_psi / (4.2 - 1.5))\n",
    "    term4 = 2.32 * math.log10(mr) - 8.07\n",
    "    term5 = 0.40 + (1094 / ((sn + 1) ** 5.19))\n",
    "    \n",
    "    log_w18 = term1 + term2 + (term3 / term5) + term4\n",
    "    return log_w18"
   ]
  },
  {
   "cell_type": "code",
   "execution_count": 10,
   "id": "110d2abf-a434-419d-984f-44aed9fab70f",
   "metadata": {},
   "outputs": [],
   "source": [
    "def trial_and_error_w18(target_w18, mr, so, zr, delta_psi, tolerance=0.01):\n",
    "    \"\"\"\n",
    "    Determine the Structural Number (SN) using a trial-and-error approach to match the target W18.\n",
    "    \n",
    "    :param target_w18: Target ESAL value obtained in Step 1.\n",
    "    :param mr: Resilient Modulus (MR) in psi from Step 2.\n",
    "    :param so: Standard Deviation (So) from Step 3.\n",
    "    :param zr: Standard Normal Deviate (ZR) from Step 4.\n",
    "    :param delta_psi: Design Serviceability Loss (ΔPSI) from Step 5.\n",
    "    :param tolerance: Acceptable error margin for the W18 calculation.\n",
    "    :return: Estimated Structural Number (SN) that meets the target W18.\n",
    "    \"\"\"\n",
    "    target_log_w18 = math.log10(target_w18)\n",
    "    sn_guess = 1.0  # Initial guess for SN\n",
    "    \n",
    "    # Incremental search to refine SN\n",
    "    step = 0.1\n",
    "    \n",
    "    while True:\n",
    "        calculated_log_w18 = calculate_log_w18(sn_guess, mr, so, zr, delta_psi)\n",
    "        error = abs(calculated_log_w18 - target_log_w18)\n",
    "        \n",
    "        if error < tolerance:\n",
    "            break\n",
    "        \n",
    "        # Adjust step based on the direction of the error\n",
    "        if calculated_log_w18 < target_log_w18:\n",
    "            sn_guess += step\n",
    "        else:\n",
    "            sn_guess -= step\n",
    "        \n",
    "        # Ensure SN does not become negative\n",
    "        if sn_guess < 0:\n",
    "            sn_guess = 0\n",
    "            \n",
    "        # Optionally refine step size for more precision\n",
    "        if error > tolerance * 10:\n",
    "            step = 0.1\n",
    "        else:\n",
    "            step = 0.01\n",
    "    \n",
    "    return sn_guess"
   ]
  },
  {
   "cell_type": "markdown",
   "id": "06b71c44-5e3c-4569-b835-155e3205eae8",
   "metadata": {},
   "source": [
    "## Step 7: Determine Layer Thicknesses\n",
    "Based on the calculated SN, this step determines the thicknesses of the different pavement layers (Asphaltic Concrete, Aggregate Base, etc.) required to meet the structural needs."
   ]
  },
  {
   "cell_type": "code",
   "execution_count": 11,
   "id": "d7dbb873-a95a-4d68-8dc4-ffc29cf392c3",
   "metadata": {},
   "outputs": [],
   "source": [
    "def calculate_layer_thicknesses(sn, material_coefficients, min_thicknesses):\n",
    "    \"\"\"\n",
    "    Determine the layer thicknesses required to meet the specified Structural Number (SN).\n",
    "    \n",
    "    :param sn: Structural Number (SN) calculated in Step 6.\n",
    "    :param material_coefficients: Dictionary of material coefficients (a_i values).\n",
    "    :param min_thicknesses: Dictionary of minimum thicknesses for each layer.\n",
    "    :return: Dictionary of calculated thicknesses for each layer.\n",
    "    \"\"\"\n",
    "    remaining_sn = sn\n",
    "    layer_thicknesses = {}\n",
    "\n",
    "    for material, coefficient in material_coefficients.items():\n",
    "        if material in min_thicknesses:\n",
    "            min_thickness = min_thicknesses[material]\n",
    "            # Calculate the thickness needed for this layer\n",
    "            thickness = max(min_thickness, remaining_sn / coefficient)\n",
    "            layer_thicknesses[material] = thickness\n",
    "            # Subtract the SN contributed by this layer from the remaining SN\n",
    "            remaining_sn -= coefficient * thickness\n",
    "\n",
    "    # Warning if the remaining SN is not zero, indicating an inability to fully allocate SN\n",
    "    if remaining_sn > 0:\n",
    "        print(f\"Warning: Remaining SN of {remaining_sn:.2f} could not be allocated to layers.\")\n",
    "    \n",
    "    return layer_thicknesses\n",
    "\n",
    "# Material coefficients for pavement layers (per cm)\n",
    "material_coefficients = {\n",
    "    'Asphaltic Concrete': 0.17,\n",
    "    'Aggregate Base': 0.05,\n",
    "    'Sand-Asphalt Base': 0.08,\n",
    "    'Soil Subbase': 0.04\n",
    "}\n",
    "\n",
    "# Minimum required thicknesses (in cm) for each layer\n",
    "min_thicknesses = {\n",
    "    'Asphaltic Concrete': 30,  # Minimum AC thickness for Truck Route\n",
    "    'Aggregate Base': 20,      # Minimum Aggregate Base thickness\n",
    "    'Sand-Asphalt Base': 10,   # Minimum Sand-Asphalt Base thickness\n",
    "    'Soil Subbase': 10         # Minimum Soil Subbase thickness\n",
    "}\n",
    "\n",
    "# Minimum Structural Number (SN) required based on roadway classification\n",
    "roadway_min_sn = {\n",
    "    'Truck Route': 7.9,\n",
    "    'Freeway': 6.9,\n",
    "    'Expressway': 6.9,\n",
    "    'Main Road': 4.9,\n",
    "    'Sector Road': 2.5,\n",
    "    'Low Volume': 2.0\n",
    "}\n"
   ]
  },
  {
   "cell_type": "markdown",
   "id": "77b5e04c-ecb5-4824-b59b-a6eee089d5e0",
   "metadata": {},
   "source": [
    "## Running the Pavement Design Tool\n",
    "Run the following cell to execute the entire pavement design process."
   ]
  },
  {
   "cell_type": "code",
   "execution_count": 12,
   "id": "a7b585ea-fe84-4926-b90e-8539e35a421f",
   "metadata": {},
   "outputs": [],
   "source": [
    "def main():\n",
    "    # Main program execution\n",
    "    print(\"Step 1: Calculate ESAL\")\n",
    "    # Equivalency factors for different vehicle types\n",
    "    equivalency_factors = {\n",
    "        'Heavy Truck': 6.5,\n",
    "        'Medium Truck': 1,\n",
    "        'Light Truck': 0.25,\n",
    "        'Automobile': 0.0008\n",
    "    }\n",
    "\n",
    "    # Prompt the user for the number of each vehicle type\n",
    "    vehicle_counts = {}\n",
    "    for vehicle_type in equivalency_factors.keys():\n",
    "        count = int(input(f\"Enter the number of {vehicle_type}s: \"))\n",
    "        vehicle_counts[vehicle_type] = count\n",
    "\n",
    "    # Calculate the total ESAL\n",
    "    total_esal = calculate_esal(vehicle_counts, equivalency_factors)\n",
    "    print(f\"\\nTotal ESAL: {total_esal}\")\n",
    "\n",
    "    print(\"\\nStep 2: Calculate Resilient Modulus\")\n",
    "    # Prompt user for the CBR value\n",
    "    cbr_value = float(input(\"Enter the California Bearing Ratio (CBR) value: \"))\n",
    "    resilient_modulus = calculate_resilient_modulus(cbr_value)\n",
    "    print(f\"The Resilient Modulus (MR) is: {resilient_modulus} psi\")\n",
    "\n",
    "    print(\"\\nStep 3: Get Standard Deviation\")\n",
    "    # Retrieve the overall standard deviation for flexible pavement design\n",
    "    overall_standard_deviation = get_standard_deviation()\n",
    "    print(f\"The overall standard deviation (So) for flexible pavement design is: {overall_standard_deviation}\")\n",
    "\n",
    "    print(\"\\nStep 4: Get Level of Reliability\")\n",
    "    # Display roadway classification options to the user\n",
    "    print(\"Please choose a roadway classification from the following options:\")\n",
    "    print(\"1. Truck Route\")\n",
    "    print(\"2. Rural/Urban\")\n",
    "    print(\"3. Expressway\")\n",
    "    print(\"4. Main Road\")\n",
    "    print(\"5. Sector Road\")\n",
    "    print(\"6. Low Volume\")\n",
    "\n",
    "    # Prompt user to input the roadway classification\n",
    "    roadway_classification = input(\"Enter the roadway classification: \")\n",
    "\n",
    "    # Retrieve the reliability parameters based on the selected classification\n",
    "    reliability_level, zr_value = get_reliability_parameters(roadway_classification)\n",
    "    if reliability_level is not None:\n",
    "        print(f\"For {roadway_classification}:\")\n",
    "        print(f\"  Level of Reliability (R) = {reliability_level}%\")\n",
    "        print(f\"  Standard Normal Deviate (ZR) = {zr_value}\")\n",
    "    else:\n",
    "        print(\"Invalid roadway classification entered. Please check and try again.\")\n",
    "\n",
    "    print(\"\\nStep 5: Get Serviceability Parameters\")\n",
    "    # Retrieve the serviceability parameters based on the selected classification\n",
    "    initial_serviceability, terminal_serviceability, delta_psi = get_serviceability_parameters(roadway_classification)\n",
    "    if initial_serviceability is not None:\n",
    "        print(f\"For {roadway_classification}:\")\n",
    "        print(f\"  Initial Serviceability (p₀) = {initial_serviceability}\")\n",
    "        print(f\"  Terminal Serviceability (pₜ) = {terminal_serviceability}\")\n",
    "        print(f\"  Design Serviceability Loss (ΔPSI) = {delta_psi}\")\n",
    "    else:\n",
    "        print(\"Invalid roadway classification entered. Please check and try again.\")\n",
    "\n",
    "    # Step 6: Calculate the Structural Number (SN)\n",
    "    sn_value = trial_and_error_w18(total_esal, resilient_modulus, overall_standard_deviation, zr_value, delta_psi)\n",
    "    print(f\"\\nCalculated Structural Number (SN): {sn_value:.2f}\")\n",
    "\n",
    "    # Step 7: Determine pavement and base thicknesses\n",
    "    min_sn_required = roadway_min_sn.get(roadway_classification, None)\n",
    "\n",
    "    if min_sn_required is None:\n",
    "        print(\"Invalid roadway classification entered. Please check and try again.\")\n",
    "    else:\n",
    "        print(f\"Minimum SN required for {roadway_classification}: {min_sn_required}\")\n",
    "        \n",
    "        # Calculate the required layer thicknesses to meet the SN\n",
    "        layer_thicknesses = calculate_layer_thicknesses(sn_value, material_coefficients, min_thicknesses)\n",
    "        \n",
    "        # Display the calculated thicknesses for each layer\n",
    "        print(\"\\nCalculated Layer Thicknesses:\")\n",
    "        for material, thickness in layer_thicknesses.items():\n",
    "            print(f\"{material}: {thickness:.2f} cm\")"
   ]
  },
  {
   "cell_type": "code",
   "execution_count": 13,
   "id": "a3e43403-751c-41de-aa69-33085dba08e3",
   "metadata": {
    "scrolled": true
   },
   "outputs": [
    {
     "name": "stdout",
     "output_type": "stream",
     "text": [
      "Step 1: Calculate ESAL\n"
     ]
    },
    {
     "name": "stdin",
     "output_type": "stream",
     "text": [
      "Enter the number of Heavy Trucks:  16925137\n",
      "Enter the number of Medium Trucks:  16925137\n",
      "Enter the number of Light Trucks:  16925137\n",
      "Enter the number of Automobiles:  287727342\n"
     ]
    },
    {
     "name": "stdout",
     "output_type": "stream",
     "text": [
      "Heavy Truck: 16925137 vehicles * 6.5 factor = 110013390.5 ESALs\n",
      "Medium Truck: 16925137 vehicles * 1 factor = 16925137 ESALs\n",
      "Light Truck: 16925137 vehicles * 0.25 factor = 4231284.25 ESALs\n",
      "Automobile: 287727342 vehicles * 0.0008 factor = 230181.87360000002 ESALs\n",
      "\n",
      "Total ESAL: 131399993.6236\n",
      "\n",
      "Step 2: Calculate Resilient Modulus\n"
     ]
    },
    {
     "name": "stdin",
     "output_type": "stream",
     "text": [
      "Enter the California Bearing Ratio (CBR) value:  10\n"
     ]
    },
    {
     "name": "stdout",
     "output_type": "stream",
     "text": [
      "The Resilient Modulus (MR) is: 15000.0 psi\n",
      "\n",
      "Step 3: Get Standard Deviation\n",
      "The overall standard deviation (So) for flexible pavement design is: 0.45\n",
      "\n",
      "Step 4: Get Level of Reliability\n",
      "Please choose a roadway classification from the following options:\n",
      "1. Truck Route\n",
      "2. Rural/Urban\n",
      "3. Expressway\n",
      "4. Main Road\n",
      "5. Sector Road\n",
      "6. Low Volume\n"
     ]
    },
    {
     "name": "stdin",
     "output_type": "stream",
     "text": [
      "Enter the roadway classification:  Truck Route\n"
     ]
    },
    {
     "name": "stdout",
     "output_type": "stream",
     "text": [
      "For Truck Route:\n",
      "  Level of Reliability (R) = 99.9%\n",
      "  Standard Normal Deviate (ZR) = -3.09\n",
      "\n",
      "Step 5: Get Serviceability Parameters\n",
      "For Truck Route:\n",
      "  Initial Serviceability (p₀) = 4.2\n",
      "  Terminal Serviceability (pₜ) = 3.0\n",
      "  Design Serviceability Loss (ΔPSI) = 1.2\n",
      "\n",
      "Calculated Structural Number (SN): 8.01\n",
      "Minimum SN required for Truck Route: 7.9\n",
      "\n",
      "Calculated Layer Thicknesses:\n",
      "Asphaltic Concrete: 47.12 cm\n",
      "Aggregate Base: 20.00 cm\n",
      "Sand-Asphalt Base: 10.00 cm\n",
      "Soil Subbase: 10.00 cm\n"
     ]
    }
   ],
   "source": [
    "main()"
   ]
  },
  {
   "cell_type": "markdown",
   "id": "4d173953-8ae9-4ffb-9dee-7bfc999f18d0",
   "metadata": {},
   "source": [
    "## Conclusion\n",
    "This notebook successfully implements a flexible pavement design tool using the AASHTO methodology. By following the steps outlined, the required pavement layer thicknesses were determined based on the input traffic and soil conditions.\n",
    "\n",
    "### Summary of Results:\n",
    "- **Total ESAL:** 131,399,993.62\n",
    "- **Resilient Modulus (MR):** 15,000 psi\n",
    "- **Structural Number (SN):** 8.01\n",
    "- **Recommended Layer Thicknesses:**\n",
    "  - Asphaltic Concrete: 47.12 cm\n",
    "  - Aggregate Base: 20.00 cm\n",
    "  - Sand-Asphalt Base: 10.00 cm\n",
    "  - Soil Subbase: 10.00 cm\n"
   ]
  },
  {
   "cell_type": "markdown",
   "id": "0d6e7f55-c045-47bb-a213-1f41491f307a",
   "metadata": {},
   "source": [
    "## References\n",
    "\n",
    "**AASHTO Guide for Design of Pavement Structures, 1993.** This guide outlines the methodology used for the calculations in this notebook, including numerical examples and detailed explanations of the structural number calculations. Available at: [Link to Article](https://www.linkedin.com/pulse/aashto-pavement-design-methodology-example-muhammad-bhatti/)"
   ]
  },
  {
   "cell_type": "code",
   "execution_count": null,
   "id": "35cac648-265e-41f2-8592-8fce965ebb27",
   "metadata": {},
   "outputs": [],
   "source": []
  }
 ],
 "metadata": {
  "kernelspec": {
   "display_name": "Python 3 (ipykernel)",
   "language": "python",
   "name": "python3"
  },
  "language_info": {
   "codemirror_mode": {
    "name": "ipython",
    "version": 3
   },
   "file_extension": ".py",
   "mimetype": "text/x-python",
   "name": "python",
   "nbconvert_exporter": "python",
   "pygments_lexer": "ipython3",
   "version": "3.11.5"
  }
 },
 "nbformat": 4,
 "nbformat_minor": 5
}
